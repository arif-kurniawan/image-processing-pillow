{
 "cells": [
  {
   "cell_type": "code",
   "execution_count": 38,
   "metadata": {},
   "outputs": [],
   "source": [
    "from PIL import Image, ImageEnhance\n",
    "\n",
    "#Create an Image Object from an Image\n",
    "im = Image.open(\"images/malam03.jpg\")\n",
    "\n",
    "#Display actual image\n",
    "im.show()"
   ]
  },
  {
   "cell_type": "code",
   "execution_count": 39,
   "metadata": {},
   "outputs": [],
   "source": [
    "#Make the new image half the width and half the height of the original image\n",
    "resized_im = im.resize((round(im.size[0]*0.05), round(im.size[1]*0.05)))\n",
    "\n",
    "#Display the resized imaged\n",
    "resized_im.show()\n",
    "\n",
    "#Save the cropped image\n",
    "resized_im.save('images/resize/kecil_malam03.jpg')"
   ]
  },
  {
   "cell_type": "code",
   "execution_count": 40,
   "metadata": {},
   "outputs": [],
   "source": [
    "im = Image.open(\"images/resize/kecil_malam03.jpg\")\n",
    "\n",
    "#image brightness enhancer\n",
    "enhancer = ImageEnhance.Contrast(im)"
   ]
  },
  {
   "cell_type": "code",
   "execution_count": 41,
   "metadata": {},
   "outputs": [],
   "source": [
    "factor = 2 #increase contrast\n",
    "im_output = enhancer.enhance(factor)\n",
    "im_output.save('images/contrast/kecil_malam03.jpg')"
   ]
  },
  {
   "cell_type": "code",
   "execution_count": 42,
   "metadata": {},
   "outputs": [],
   "source": [
    "im = Image.open(\"images/contrast/kecil_malam03.jpg\")\n",
    "#image brightness enhancer\n",
    "enhancer = ImageEnhance.Brightness(im)"
   ]
  },
  {
   "cell_type": "code",
   "execution_count": 43,
   "metadata": {},
   "outputs": [],
   "source": [
    "factor = 2 #brightens the image\n",
    "im_output = enhancer.enhance(factor)\n",
    "im_output.save('images/brightness/kecil_malam03.jpg')"
   ]
  },
  {
   "cell_type": "code",
   "execution_count": null,
   "metadata": {},
   "outputs": [],
   "source": []
  }
 ],
 "metadata": {
  "kernelspec": {
   "display_name": "Python 3",
   "language": "python",
   "name": "python3"
  },
  "language_info": {
   "codemirror_mode": {
    "name": "ipython",
    "version": 3
   },
   "file_extension": ".py",
   "mimetype": "text/x-python",
   "name": "python",
   "nbconvert_exporter": "python",
   "pygments_lexer": "ipython3",
   "version": "3.8.5"
  }
 },
 "nbformat": 4,
 "nbformat_minor": 4
}
